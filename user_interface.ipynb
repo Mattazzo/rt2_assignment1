{
 "cells": [
  {
   "cell_type": "markdown",
   "id": "65cc4524",
   "metadata": {},
   "source": [
    "# User Interface "
   ]
  },
  {
   "cell_type": "markdown",
   "id": "a6172738",
   "metadata": {},
   "source": [
    "## Initilize and import"
   ]
  },
  {
   "cell_type": "code",
   "execution_count": 1,
   "id": "2cedae7a",
   "metadata": {
    "ExecuteTime": {
     "end_time": "2021-07-21T14:52:57.302927Z",
     "start_time": "2021-07-21T14:52:49.692426Z"
    }
   },
   "outputs": [
    {
     "name": "stdout",
     "output_type": "stream",
     "text": [
      "Connected to Action Server\n"
     ]
    }
   ],
   "source": [
    "%matplotlib widget\n",
    "import numpy as np\n",
    "import matplotlib.pyplot as plt\n",
    "import jupyros as jr\n",
    "import ipywidgets as widgets\n",
    "import rospy\n",
    "import time\n",
    "import actionlib\n",
    "from std_msgs.msg import String\n",
    "from nav_msgs.msg import Odometry\n",
    "from matplotlib import animation, rc\n",
    "from geometry_msgs.msg import Twist\n",
    "from rt2_assignment1.srv import Command\n",
    "from ipywidgets import Button,GridBox,Layout,FloatSlider,ButtonStyle\n",
    "import rt2_assignment1.msg\n",
    "\n",
    "#init node\n",
    "rospy.init_node('user_interface')\n",
    "\n",
    "# velocities publisher\n",
    "pub = rospy.Publisher('cmd_vel', Twist, queue_size=10)\n",
    "vel_pub = rospy.Publisher('velocities', Twist, queue_size=10)\n",
    "msg = Twist()\n",
    "\n",
    "# user interface client\n",
    "ui_client = rospy.ServiceProxy('/user_interface', Command)\n",
    "\n",
    "#action client\n",
    "act_client = actionlib.SimpleActionClient('position',rt2_assignment1.msg.PositionAction)\n",
    "if(act_client.wait_for_server()):\n",
    "    print(\"Connected to Action Server\")\n",
    "else:\n",
    "    print(\"Unable to connect to Action Server\")"
   ]
  },
  {
   "cell_type": "markdown",
   "id": "28d283f4",
   "metadata": {},
   "source": [
    "## Buttons to start and stop random target behavior"
   ]
  },
  {
   "cell_type": "code",
   "execution_count": 2,
   "id": "9b8bb2ac",
   "metadata": {
    "ExecuteTime": {
     "end_time": "2021-07-21T14:53:15.652207Z",
     "start_time": "2021-07-21T14:53:15.367600Z"
    }
   },
   "outputs": [
    {
     "data": {
      "application/vnd.jupyter.widget-view+json": {
       "model_id": "ccfd85571c304086a86a270c230dcbad",
       "version_major": 2,
       "version_minor": 0
      },
      "text/plain": [
       "GridBox(children=(Button(description='START', layout=Layout(grid_area='start_but'), style=ButtonStyle(button_c…"
      ]
     },
     "metadata": {},
     "output_type": "display_data"
    },
    {
     "name": "stdout",
     "output_type": "stream",
     "text": [
      "start\n"
     ]
    }
   ],
   "source": [
    "start_but = Button(description = \"START\", layout = Layout(grid_area='start_but'), style = ButtonStyle(button_color ='green'))\n",
    "stop_but = Button(description = \"STOP\", layout = Layout(grid_area='stop_but'), style = ButtonStyle(button_color ='red'))\n",
    "\n",
    "def on_start_clicked(b):\n",
    "    global ui_client\n",
    "    ui_client('start'\n",
    "             )\n",
    "    print(\"start\")\n",
    "\n",
    "def on_stop_clicked(b):\n",
    "    global ui_client\n",
    "    act_client.cancel_all_goals()\n",
    "    ui_client('stop')\n",
    "    print(\"goal canceled\")\n",
    "\n",
    "start_but.on_click(on_start_clicked)\n",
    "stop_but.on_click(on_stop_clicked)\n",
    "\n",
    "# show buttons in a grid Box\n",
    "gridBox = GridBox(children=[start_but, stop_but],\n",
    "                         layout = Layout(\n",
    "                            width = '50%',\n",
    "                            grid_template_rows = '10%',\n",
    "                            grid_template_columns = '50% 50%',\n",
    "                            grid_template_areas = ''' \"start_but stop_but\" '''\n",
    "                         )\n",
    "                    )\n",
    "display(gridBox)\n"
   ]
  },
  {
   "cell_type": "markdown",
   "id": "886409d8",
   "metadata": {},
   "source": [
    "## Slider to set linear and angular velocity"
   ]
  },
  {
   "cell_type": "code",
   "execution_count": 3,
   "id": "21e1994d",
   "metadata": {
    "ExecuteTime": {
     "end_time": "2021-07-21T14:53:20.888946Z",
     "start_time": "2021-07-21T14:53:20.622764Z"
    }
   },
   "outputs": [
    {
     "data": {
      "application/vnd.jupyter.widget-view+json": {
       "model_id": "aed64c2f2baf4aaf8abb3bda40fe42ab",
       "version_major": 2,
       "version_minor": 0
      },
      "text/plain": [
       "FloatSlider(value=1.0, max=2.0)"
      ]
     },
     "metadata": {},
     "output_type": "display_data"
    },
    {
     "data": {
      "application/vnd.jupyter.widget-view+json": {
       "model_id": "80f8f216440e4c1788bdb8ae9912f4d9",
       "version_major": 2,
       "version_minor": 0
      },
      "text/plain": [
       "FloatSlider(value=3.0, max=6.0)"
      ]
     },
     "metadata": {},
     "output_type": "display_data"
    }
   ],
   "source": [
    "# slider for lin vel\n",
    "lin = FloatSlider(min=0.0, max=2.0,value = 1.0)\n",
    "display(lin)\n",
    "\n",
    "#slider for ang vel\n",
    "ang = FloatSlider(min=0.0, max=6.0, value = 3.0)\n",
    "display(ang)\n",
    "\n",
    "# fun to change lin vel ( maybe could send a twist on a topic and go to point could read it to set vel)\n",
    "def on_value_change(change):\n",
    "    global msg\n",
    "    msg.linear.x = change['new']\n",
    "    vel_pub.publish(msg)\n",
    "\n",
    "# fun to change ang vel\n",
    "def on_valueang_change(change):\n",
    "    global msg\n",
    "    msg.angular.z = change['new']\n",
    "    vel_pub.publish(msg)\n",
    "\n",
    "lin.observe(on_value_change, names='value')\n",
    "ang.observe(on_valueang_change, names='value')"
   ]
  },
  {
   "cell_type": "markdown",
   "id": "e2a6347b",
   "metadata": {},
   "source": [
    "## Buttons to control the robot without random behavior"
   ]
  },
  {
   "cell_type": "code",
   "execution_count": 4,
   "id": "32c17337",
   "metadata": {
    "ExecuteTime": {
     "end_time": "2021-07-21T08:24:45.099562Z",
     "start_time": "2021-07-21T08:24:44.481117Z"
    }
   },
   "outputs": [
    {
     "data": {
      "application/vnd.jupyter.widget-view+json": {
       "model_id": "79871dd897334f12a500c3f51bc60e5d",
       "version_major": 2,
       "version_minor": 0
      },
      "text/plain": [
       "GridBox(children=(Button(description='STOP', layout=Layout(grid_area='stop', width='auto'), style=ButtonStyle(…"
      ]
     },
     "metadata": {},
     "output_type": "display_data"
    }
   ],
   "source": [
    "# declaration buttons\n",
    "stop = Button(description = \"STOP\", layout= Layout(width='auto', grid_area='stop'))\n",
    "forward = Button(description = \"^\", layout= Layout(width='auto', grid_area='forward'))\n",
    "backward = Button(description = \"v\", layout= Layout(width='auto', grid_area='backward'))\n",
    "right = Button(description = \">\", layout= Layout(width='auto', grid_area='right'))\n",
    "left = Button(description = \"<\", layout= Layout(width='auto', grid_area='left'))\n",
    "\n",
    "# defining on_clicked functions\n",
    "def on_stop_clicked(b):\n",
    "    global msg,ui_client\n",
    "    act_client.cancel_all_goals()\n",
    "    ui_client('stop')\n",
    "    msg.linear.x = 0\n",
    "    msg.angular.z = 0\n",
    "    pub.publish(msg)\n",
    "    \n",
    "def on_forward_clicked(b):\n",
    "    global lin,msg,pub,ui_client\n",
    "    act_client.cancel_all_goals()\n",
    "    ui_client('stop')\n",
    "    msg.linear.x = lin.value*0.3\n",
    "    msg.angular.z = 0\n",
    "    pub.publish(msg)\n",
    "    \n",
    "def on_backward_clicked(b):\n",
    "    global lin,msg,pub,ui_client\n",
    "    act_client.cancel_all_goals()\n",
    "    ui_client('stop')\n",
    "    msg.linear.x = -lin.value*0.3\n",
    "    msg.angular.z = 0\n",
    "    pub.publish(msg)\n",
    "    \n",
    "def on_left_clicked(b):\n",
    "    global msg,ang,pub,ui_client\n",
    "    act_client.cancel_all_goals()\n",
    "    ui_client('stop')\n",
    "    msg.linear.x = 0\n",
    "    msg.angular.z = -ang.value*3.0\n",
    "    pub.publish(msg)\n",
    "    \n",
    "def on_right_clicked(b):\n",
    "    global msg,ang,pub,ui_client\n",
    "    act_client.cancel_all_goals()\n",
    "    ui_client('stop')\n",
    "    msg.linear.x = 0\n",
    "    msg.angular.z = ang.value*3.0\n",
    "    pub.publish(msg)\n",
    "    \n",
    "# attach functions to buttons\n",
    "stop.on_click(on_stop_clicked)\n",
    "forward.on_click(on_forward_clicked)\n",
    "backward.on_click(on_backward_clicked)\n",
    "left.on_click(on_left_clicked)\n",
    "right.on_click(on_right_clicked)\n",
    "\n",
    "# show buttons in a grid Box\n",
    "gridBox_buttons = GridBox(children=[stop, forward, backward, right, left],\n",
    "                         layout = Layout(\n",
    "                            width = '400px',\n",
    "                            height = '100px',\n",
    "                            grid_template_rows = '40% 40% 40%',\n",
    "                            grid_template_columns = '20% 20% 20%',\n",
    "                            grid_template_areas ='''\n",
    "                            \". forward .\"\n",
    "                            \"left stop right\"\n",
    "                            \" . backward .\"\n",
    "                            '''\n",
    "                         )\n",
    "                    )\n",
    "display(gridBox_buttons)"
   ]
  },
  {
   "cell_type": "markdown",
   "id": "e5222fd1",
   "metadata": {
    "heading_collapsed": true
   },
   "source": [
    "## Line plot cmd_vel VS actual velocity"
   ]
  },
  {
   "cell_type": "code",
   "execution_count": 7,
   "id": "a5c55a86",
   "metadata": {
    "ExecuteTime": {
     "end_time": "2021-07-20T19:55:31.986525Z",
     "start_time": "2021-07-20T19:55:30.370784Z"
    },
    "hidden": true,
    "scrolled": true
   },
   "outputs": [
    {
     "data": {
      "application/vnd.jupyter.widget-view+json": {
       "model_id": "094abe91fd474b24a5ba1031a153cd03",
       "version_major": 2,
       "version_minor": 0
      },
      "text/plain": [
       "Canvas(toolbar=Toolbar(toolitems=[('Home', 'Reset original view', 'home', 'home'), ('Back', 'Back to previous …"
      ]
     },
     "metadata": {},
     "output_type": "display_data"
    }
   ],
   "source": [
    "import numpy as np\n",
    "import matplotlib.pyplot as plt\n",
    "import jupyros as jr\n",
    "import ipywidgets as widgets\n",
    "import rospy\n",
    "from nav_msgs.msg import Odometry\n",
    "from matplotlib import animation, rc\n",
    "from geometry_msgs.msg import Twist\n",
    "\n",
    "#set up the figure\n",
    "fig_vel = plt.figure(1)\n",
    "\n",
    "#set up axis\n",
    "ax_lin = fig_vel.add_subplot(211)\n",
    "ax_ang = fig_vel.add_subplot(212)\n",
    "\n",
    "#lines\n",
    "line_odom_lin, = ax_lin.plot([], [], label= \"odom lin vel\")\n",
    "line_odom_ang, = ax_ang.plot([], [], label= \"odom ang vel\")\n",
    "line_cmd_lin, = ax_lin.plot([],[], label= \"cmd vel lin\")\n",
    "line_cmd_ang, = ax_ang.plot([],[], label= \"cmd ang vel\")\n",
    "\n",
    "#axes features\n",
    "ax_lin.grid()\n",
    "ax_ang.grid()\n",
    "\n",
    "ax_lin.legend()\n",
    "ax_ang.legend()\n",
    "\n",
    "ax_lin.set_title(\"linear velocities\")\n",
    "ax_ang.set_title(\"angular velocities\")\n",
    "\n",
    "ax_lin.set(xlabel = \"Time\", ylabel = \"Magnitude\")\n",
    "ax_ang.set(xlabel = \"Time\", ylabel = \"Magnitude\")\n",
    "\n",
    "plots = [line_odom_lin,line_odom_ang,line_cmd_lin,line_cmd_ang]\n",
    "\n",
    "# data\n",
    "x_odom_data = []\n",
    "x_cmd_data = []\n",
    "vlin_odom_data = []\n",
    "vang_odom_data = []\n",
    "vlin_cmd_data = []\n",
    "vang_cmd_data = []\n",
    "\n",
    "\n",
    "# callbacks\n",
    "def odom_callback(msg_odom):\n",
    "    global vlin_odom_data, vang_odom_data, x_odom_data\n",
    "    \n",
    "    vlin_odom_data.append(msg_odom.twist.twist.linear.x)\n",
    "    vang_odom_data.append(msg_odom.twist.twist.angular.z)\n",
    "    \n",
    "    # set x data on ax_lin \n",
    "    if(len(x_odom_data) != 0):\n",
    "        x_odom_data.append(x_odom_data[len(x_odom_data)-1]+0.05)\n",
    "    else:\n",
    "        x_odom_data.append(0.05)\n",
    "    \n",
    "\n",
    "def cmd_vel_callback(msg_cmd):\n",
    "    global vlin_cmd_data, vang_cmd_data, x_cmd_data\n",
    "    \n",
    "    vlin_cmd_data.append(msg_cmd.linear.x)\n",
    "    vang_cmd_data.append(msg_cmd.angular.z)\n",
    "\n",
    "    # set x data on ax_ang\n",
    "    if(len(x_cmd_data) != 0):\n",
    "        x_cmd_data.append(x_cmd_data[len(x_cmd_data)-1]+0.05)\n",
    "    else:\n",
    "        x_cmd_data.append(0.05)\n",
    "        \n",
    "# initialize the plot\n",
    "def init_vel():\n",
    "    ax_lin.set_xlim (0,10) # time axis\n",
    "    ax_ang.set_xlim (0,10) # time axis\n",
    "    \n",
    "    ax_lin.set_ylim(-0.8,0.8) #vel axis\n",
    "    ax_ang.set_ylim(-0.8,0.8) #vel axis\n",
    "    \n",
    "    return plots,\n",
    "\n",
    "def animate_vel(frame):   \n",
    "    \n",
    "    #update x axis ax_odom\n",
    "    ax_odom_min, ax_odom_max = ax_lin.get_xlim()\n",
    "    \n",
    "    if len(x_odom_data) != 0 and ax_odom_max < x_odom_data[len(x_odom_data)-1]:\n",
    "        ax_lin.set_xlim(ax_odom_max, ax_odom_max+10)\n",
    "        ax_lin.figure.canvas.draw()\n",
    "        \n",
    "    #update x axis ax_cmd\n",
    "    ax_cmd_min,ax_cmd_max = ax_ang.get_xlim()\n",
    "    \n",
    "    \n",
    "    if len(x_cmd_data) != 0 and ax_cmd_max < x_cmd_data[len(x_cmd_data)-1]:\n",
    "        ax_ang.set_xlim(ax_cmd_max, ax_cmd_max+10)\n",
    "        ax_ang.figure.canvas.draw()\n",
    "        \n",
    "    #update odom data\n",
    "    line_odom_lin.set_data(x_odom_data,vlin_odom_data)\n",
    "    line_odom_ang.set_data(x_odom_data,vang_odom_data)\n",
    "    \n",
    "    #update cmd data\n",
    "    line_cmd_lin.set_data(x_cmd_data,vlin_cmd_data)\n",
    "    line_cmd_ang.set_data(x_cmd_data,vang_cmd_data)    \n",
    "    \n",
    "    return plots,\n",
    "    \n",
    "\n",
    "#subscribers\n",
    "sub_odom = rospy.Subscriber('/odom', Odometry, odom_callback)\n",
    "sub_cmd_vel = rospy.Subscriber('/cmd_vel', Twist, cmd_vel_callback)  \n",
    "\n",
    "# show the plots\n",
    "anim = animation.FuncAnimation(fig_vel, animate_vel, init_func = init_vel)\n",
    "fig_vel.show()"
   ]
  },
  {
   "cell_type": "markdown",
   "id": "5c963b18",
   "metadata": {},
   "source": [
    "## Number of reached and canceled target"
   ]
  },
  {
   "cell_type": "code",
   "execution_count": 4,
   "id": "74931601",
   "metadata": {
    "ExecuteTime": {
     "end_time": "2021-07-21T14:53:24.474113Z",
     "start_time": "2021-07-21T14:53:23.922098Z"
    }
   },
   "outputs": [
    {
     "data": {
      "application/vnd.jupyter.widget-view+json": {
       "model_id": "70fe10a9beb1439bb803d9e542aa9263",
       "version_major": 2,
       "version_minor": 0
      },
      "text/plain": [
       "Canvas(toolbar=Toolbar(toolitems=[('Home', 'Reset original view', 'home', 'home'), ('Back', 'Back to previous …"
      ]
     },
     "metadata": {},
     "output_type": "display_data"
    }
   ],
   "source": [
    "# plot for targets\n",
    "fig_targets = plt.figure(2)\n",
    "ax_targets = fig_targets.add_subplot()\n",
    "ax_targets.set_title(\"number of targets reached or canceled\")\n",
    "\n",
    "#data for targets\n",
    "num_reached = 0\n",
    "num_canceled = 0\n",
    "bars = [0,0]\n",
    "labels = [\"Targets reached\",\"Target canceled\"]\n",
    "col = [\"green\", \"red\"]\n",
    "bar_plot = ax_targets.bar(labels,bars,color = col)\n",
    "\n",
    "def action_status_CB(msg):\n",
    "    global num_reached, num_canceled, bar_plot\n",
    "    \n",
    "    print(\"target read: \" + msg.data)\n",
    "    \n",
    "    if(msg.data == \"SUCCEEDED\"):\n",
    "        num_reached += 1\n",
    "        print(\"num_reached: \" + str(num_reached))\n",
    "        \n",
    "        #show target plot updated\n",
    "        bar_plot.remove()\n",
    "        rospy.sleep(0.3)\n",
    "        bars[0] = num_reached\n",
    "        bar_plot = ax_targets.bar(labels,bars,color = col)        \n",
    "        \n",
    "    elif(msg.data == \"PREEMPTED\"):\n",
    "        num_canceled += 1  \n",
    "        print(\"num_canceled: \" + str(num_canceled))\n",
    "        \n",
    "        #show target plot updated\n",
    "        bar_plot.remove()\n",
    "        rospy.sleep(0.3)\n",
    "        bars[1] = num_canceled\n",
    "        bar_plot = ax_targets.bar(labels,bars,color = col)\n",
    "\n",
    "# status subscriber\n",
    "sub_target = rospy.Subscriber('action_status', String, action_status_CB)\n"
   ]
  },
  {
   "cell_type": "markdown",
   "id": "e17ff355",
   "metadata": {},
   "source": [
    "## time required to reach the targets"
   ]
  },
  {
   "cell_type": "code",
   "execution_count": 5,
   "id": "e40d24c3",
   "metadata": {
    "ExecuteTime": {
     "end_time": "2021-07-21T14:53:28.293871Z",
     "start_time": "2021-07-21T14:53:27.102897Z"
    }
   },
   "outputs": [
    {
     "data": {
      "application/vnd.jupyter.widget-view+json": {
       "model_id": "bc633e314c5d4a6e951154c780af3588",
       "version_major": 2,
       "version_minor": 0
      },
      "text/plain": [
       "Canvas(toolbar=Toolbar(toolitems=[('Home', 'Reset original view', 'home', 'home'), ('Back', 'Back to previous …"
      ]
     },
     "metadata": {},
     "output_type": "display_data"
    }
   ],
   "source": [
    "#plot for time to reach targets\n",
    "fig_time = plt.figure(3)\n",
    "ax_time = fig_time.add_subplot()\n",
    "ax_time.set_title(\"histogram of times to reach targe\")\n",
    "\n",
    "# data for time to reach targets\n",
    "start_time = rospy.Time()\n",
    "arrival_time = rospy.Time()\n",
    "time_to_reach = []\n",
    "HIST_BINS = 120 # 120 to have a resolution of half of a second in the plot\n",
    "_,_,hist_bars = ax_time.hist(time_to_reach,HIST_BINS, color = \"skyblue\")\n",
    "\n",
    "\n",
    "def action_status_CB_time(msg):\n",
    "    global start_time, arrival_time, time_to_reach, hist_bars\n",
    "    \n",
    "    print(\"time read: \" + msg.data)\n",
    "    \n",
    "    if(msg.data == \"SUCCEEDED\"):\n",
    "        #take arrival time\n",
    "        arrival_time = rospy.get_rostime()\n",
    "        time_to_reach.append(arrival_time.to_sec() - start_time.to_sec())\n",
    "        print(\"time to reach a goal: \"+ str(time_to_reach))\n",
    "\n",
    "        #update the histogram of times to reach\n",
    "        [b.remove() for b in hist_bars]\n",
    "        _,_,hist_bars = ax_time.hist(time_to_reach,HIST_BINS) \n",
    "        \n",
    "    elif(msg.data == \"PENDING\"):\n",
    "        #take starting time\n",
    "        start_time = rospy.get_rostime()\n",
    "\n",
    "# status subscriber\n",
    "sub_time = rospy.Subscriber('action_status', String, action_status_CB_time)"
   ]
  },
  {
   "cell_type": "markdown",
   "id": "163f3a44",
   "metadata": {},
   "source": [
    "## Show robot position and orientation"
   ]
  },
  {
   "cell_type": "code",
   "execution_count": 7,
   "id": "c304ebd9",
   "metadata": {
    "ExecuteTime": {
     "end_time": "2021-07-21T08:17:59.965062Z",
     "start_time": "2021-07-21T08:17:59.678738Z"
    },
    "scrolled": true
   },
   "outputs": [
    {
     "data": {
      "application/vnd.jupyter.widget-view+json": {
       "model_id": "7daed6546563400d8d50016f194ed4af",
       "version_major": 2,
       "version_minor": 0
      },
      "text/plain": [
       "Canvas(toolbar=Toolbar(toolitems=[('Home', 'Reset original view', 'home', 'home'), ('Back', 'Back to previous …"
      ]
     },
     "metadata": {},
     "output_type": "display_data"
    }
   ],
   "source": [
    "%matplotlib widget\n",
    "# First set up the figure and the axis \n",
    "fig_odom = plt.figure(4)\n",
    "ax_odom = fig_odom.add_subplot()\n",
    "ax_odom.grid()\n",
    "\n",
    "line, = plt.plot([], [], 'ro')\n",
    "x_data = [] \n",
    "y_data = []\n",
    "\n",
    "def init_odom():\n",
    "    ax_odom.set_xlim(-5,5)\n",
    "    ax_odom.set_ylim(-5,5)\n",
    "    return line,\n",
    "\n",
    "def odom_callback(msg):\n",
    "    x_data.append(msg.pose.pose.position.x)\n",
    "    y_data.append(msg.pose.pose.position.y)\n",
    "\n",
    "def animate_odom(frame):\n",
    "    line.set_data(x_data,y_data)\n",
    "    return line,\n",
    "\n",
    "sub_pos = rospy.Subscriber('odom', Odometry, odom_callback)\n",
    "\n",
    "ani = animation.FuncAnimation(fig_odom, animate_odom, init_func = init_odom)    "
   ]
  },
  {
   "cell_type": "code",
   "execution_count": null,
   "id": "aaa69f69",
   "metadata": {},
   "outputs": [],
   "source": []
  }
 ],
 "metadata": {
  "hide_input": true,
  "kernelspec": {
   "display_name": "Python 3 (ipykernel)",
   "language": "python",
   "name": "python3"
  },
  "language_info": {
   "codemirror_mode": {
    "name": "ipython",
    "version": 3
   },
   "file_extension": ".py",
   "mimetype": "text/x-python",
   "name": "python",
   "nbconvert_exporter": "python",
   "pygments_lexer": "ipython3",
   "version": "3.8.5"
  },
  "toc": {
   "base_numbering": 1,
   "nav_menu": {},
   "number_sections": true,
   "sideBar": true,
   "skip_h1_title": false,
   "title_cell": "Table of Contents",
   "title_sidebar": "Contents",
   "toc_cell": false,
   "toc_position": {},
   "toc_section_display": true,
   "toc_window_display": false
  },
  "varInspector": {
   "cols": {
    "lenName": 16,
    "lenType": 16,
    "lenVar": 40
   },
   "kernels_config": {
    "python": {
     "delete_cmd_postfix": "",
     "delete_cmd_prefix": "del ",
     "library": "var_list.py",
     "varRefreshCmd": "print(var_dic_list())"
    },
    "r": {
     "delete_cmd_postfix": ") ",
     "delete_cmd_prefix": "rm(",
     "library": "var_list.r",
     "varRefreshCmd": "cat(var_dic_list()) "
    }
   },
   "types_to_exclude": [
    "module",
    "function",
    "builtin_function_or_method",
    "instance",
    "_Feature"
   ],
   "window_display": false
  }
 },
 "nbformat": 4,
 "nbformat_minor": 5
}
