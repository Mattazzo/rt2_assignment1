{
 "cells": [
  {
   "cell_type": "markdown",
   "id": "65cc4524",
   "metadata": {},
   "source": [
    "<h1> User Interface module </h1>"
   ]
  },
  {
   "cell_type": "markdown",
   "id": "53201212",
   "metadata": {
    "ExecuteTime": {
     "end_time": "2021-07-21T16:50:42.249095Z",
     "start_time": "2021-07-21T16:50:42.223139Z"
    }
   },
   "source": [
    "<p>The module implements an user interface for the Ros package <b>rt2_assignment1</b>, in particular starting from the branch <b>action</b>. <br>\n",
    "The file is composed by two main parts, a first one to interact with the robot and control it, and the second to visualize some relevant data about the simulation.<br> <br>\n",
    "The requirement was to implement:\n",
    "<ul>\n",
    "    <li>Two buttons to start and stop the \"random goal\" behavior</li>\n",
    "    <li>Sliders to set constants for linear and angular velocity of the robot(both in random goal behavior and cdirectly controlled behavior)</li>\n",
    "    <li>Five buttons to directly control the robot (stop, go forward, go backward, turn left, turn right)</li>\n",
    "    <li>Visualize /cmd_vel velocities with respect to /odom velocities in a lineplot</li>\n",
    "    <li>Visualize the number of targets reached and canceled</li>\n",
    "    <li>Visualize an histogram plot of the times to reach the targets</li>\n",
    "    <li>Visualize robot position (and optionally also the orientation) in a 2D plot</li>\n",
    "</ul>\n",
    "Publisher on topics:\n",
    "<ul>\n",
    "    <li>/cmd_vel: to directly control the robot with the buttons</li>\n",
    "    <li>/velocities: to set constants for the robot velocities</li>\n",
    "</ul>\n",
    "Subscribers on topics:\n",
    "<ul>\n",
    "    <li>/cmd_vel: to plot velocities</li>\n",
    "    <li>/odom: to plot velocities, position (and optionally orientation)</li>\n",
    "    <li>/action_status: to count number of reached and canceled targets, but also to evaluate the times to reach the target</li>\n",
    "</ul>\n",
    "Action client:\n",
    "<ul>\n",
    "    <li>position: action to reach a goal position</li>\n",
    "</ul>\n",
    "</p> \n"
   ]
  },
  {
   "cell_type": "markdown",
   "id": "58715903",
   "metadata": {
    "ExecuteTime": {
     "end_time": "2021-07-21T16:59:40.878129Z",
     "start_time": "2021-07-21T16:59:40.845276Z"
    }
   },
   "source": [
    "## Robot Control"
   ]
  },
  {
   "cell_type": "markdown",
   "id": "a6172738",
   "metadata": {},
   "source": [
    "### Initilize and import\n",
    "<p> \n",
    "In this first cell there are all the required import for the whole notebook, in addition there are the declaration of:\n",
    "    <ul>\n",
    "        <li>Publisher on /cmd_vel to set robot velocity</li>\n",
    "        <li>Publisher on /velocities to set the constants for the robot velocities</li>\n",
    "        <li>Server for /user_interface service to start and stop robot</li>\n",
    "        <li>Action server go_to_point to reach a specified goal position</li>\n",
    "    </ul> \n",
    "If the node is successfully connected to the server it print a confirmation message, otherwise it prints that the connection is not possible. \n",
    "</p>"
   ]
  },
  {
   "cell_type": "code",
   "execution_count": 1,
   "id": "2cedae7a",
   "metadata": {
    "ExecuteTime": {
     "end_time": "2021-07-21T20:23:51.131413Z",
     "start_time": "2021-07-21T20:23:44.696561Z"
    }
   },
   "outputs": [
    {
     "name": "stdout",
     "output_type": "stream",
     "text": [
      "Connected to Action Server\n"
     ]
    }
   ],
   "source": [
    "%matplotlib widget\n",
    "import numpy as np\n",
    "import matplotlib.pyplot as plt\n",
    "import jupyros as jr\n",
    "import ipywidgets as widgets\n",
    "import rospy\n",
    "import time\n",
    "import math\n",
    "import actionlib\n",
    "from std_msgs.msg import String\n",
    "from nav_msgs.msg import Odometry\n",
    "from matplotlib import animation, rc\n",
    "from geometry_msgs.msg import Twist\n",
    "from rt2_assignment1.srv import Command\n",
    "from ipywidgets import Button,GridBox,Layout,FloatSlider,ButtonStyle,Text,HBox,VBox\n",
    "import rt2_assignment1.msg\n",
    "from IPython.display import clear_output\n",
    "from tf.transformations import euler_from_quaternion\n",
    "\n",
    "#init node\n",
    "rospy.init_node('user_interface')\n",
    "\n",
    "# velocities publisher\n",
    "pub = rospy.Publisher('cmd_vel', Twist, queue_size=10)\n",
    "vel_pub = rospy.Publisher('velocities', Twist, queue_size=10)\n",
    "msg = Twist()\n",
    "\n",
    "# user interface client\n",
    "ui_client = rospy.ServiceProxy('/user_interface', Command)\n",
    "\n",
    "#action client\n",
    "act_client = actionlib.SimpleActionClient('position',rt2_assignment1.msg.PositionAction)\n",
    "if(act_client.wait_for_server()):\n",
    "    print(\"Connected to Action Server\")\n",
    "else:\n",
    "    print(\"Unable to connect to Action Server\")"
   ]
  },
  {
   "cell_type": "markdown",
   "id": "28d283f4",
   "metadata": {},
   "source": [
    "### Buttons to start and stop random target behavior\n",
    "<p>\n",
    "This cell implement the two buttons to start and stop the \" reach random targets\" behavior.<br>\n",
    "There are two Button with their relative on_click functions, when the user press the start button, the module call the action server \n",
    "</p>"
   ]
  },
  {
   "cell_type": "code",
   "execution_count": 2,
   "id": "9b8bb2ac",
   "metadata": {
    "ExecuteTime": {
     "end_time": "2021-07-21T20:23:52.346798Z",
     "start_time": "2021-07-21T20:23:52.173708Z"
    },
    "hide_input": false
   },
   "outputs": [
    {
     "data": {
      "application/vnd.jupyter.widget-view+json": {
       "model_id": "b2dfca40554a47b78af526e33842dead",
       "version_major": 2,
       "version_minor": 0
      },
      "text/plain": [
       "HBox(children=(Button(description='START', style=ButtonStyle(button_color='palegreen')), Button(description='S…"
      ]
     },
     "metadata": {},
     "output_type": "display_data"
    },
    {
     "data": {
      "application/vnd.jupyter.widget-view+json": {
       "model_id": "b2dfca40554a47b78af526e33842dead",
       "version_major": 2,
       "version_minor": 0
      },
      "text/plain": [
       "HBox(children=(Button(description='START', style=ButtonStyle(button_color='palegreen')), Button(description='S…"
      ]
     },
     "metadata": {},
     "output_type": "display_data"
    },
    {
     "data": {
      "text/plain": [
       "'Robot random behaviour: ACTIVE'"
      ]
     },
     "metadata": {},
     "output_type": "display_data"
    }
   ],
   "source": [
    "start_but = Button(description = \"START\", style = ButtonStyle(button_color ='palegreen'))\n",
    "stop_but = Button(description = \"STOP\", style = ButtonStyle(button_color ='orangered'))\n",
    "\n",
    "def on_start_clicked(b):\n",
    "    global ui_client\n",
    "    ui_client('start')\n",
    "    clear_output(wait=True)\n",
    "    display(box)\n",
    "    display(\"Robot random behaviour: ACTIVE\")\n",
    "\n",
    "\n",
    "def on_stop_clicked(b):\n",
    "    global ui_client\n",
    "    act_client.cancel_all_goals()\n",
    "    ui_client('stop')\n",
    "    clear_output(wait=True)\n",
    "    display(box)\n",
    "    display(\"Robot random behaviour: STOPPED\")\n",
    "\n",
    "start_but.on_click(on_start_clicked)\n",
    "stop_but.on_click(on_stop_clicked)\n",
    "\n",
    "box = HBox([start_but,stop_but])\n",
    "display(box)"
   ]
  },
  {
   "cell_type": "markdown",
   "id": "886409d8",
   "metadata": {},
   "source": [
    "### Slider to set linear and angular velocity"
   ]
  },
  {
   "cell_type": "code",
   "execution_count": 7,
   "id": "21e1994d",
   "metadata": {
    "ExecuteTime": {
     "end_time": "2021-07-21T19:33:55.424341Z",
     "start_time": "2021-07-21T19:33:54.964124Z"
    }
   },
   "outputs": [
    {
     "data": {
      "application/vnd.jupyter.widget-view+json": {
       "model_id": "520c8ccc22234b40bcb8391b5084a8a3",
       "version_major": 2,
       "version_minor": 0
      },
      "text/plain": [
       "VBox(children=(HBox(children=(FloatSlider(value=1.0, max=2.0), Text(value='linear velocity constant (default v…"
      ]
     },
     "metadata": {},
     "output_type": "display_data"
    }
   ],
   "source": [
    "# slider for lin vel\n",
    "lin = FloatSlider(min=0.0, max=2.0,value = 1.0)\n",
    "text_lin = Text(value =\"linear velocity constant (default velocity = 0.3)\", disabled=True)\n",
    "lin_box = HBox([lin,text_lin])\n",
    "\n",
    "#slider for ang vel\n",
    "ang = FloatSlider(min=0.0, max=6.0, value = 3.0)\n",
    "text_ang = Text(value =\"angular velocity constant (default value is 3.0)\", disabled=True)\n",
    "ang_box = HBox([ang,text_ang])\n",
    "\n",
    "# fun to change lin vel ( maybe could send a twist on a topic and go to point could read it to set vel)\n",
    "def on_value_change(change):\n",
    "    global msg\n",
    "    msg.linear.x = change['new']\n",
    "    vel_pub.publish(msg)\n",
    "\n",
    "# fun to change ang vel\n",
    "def on_valueang_change(change):\n",
    "    global msg\n",
    "    msg.angular.z = change['new']\n",
    "    vel_pub.publish(msg)\n",
    "\n",
    "lin.observe(on_value_change, names='value')\n",
    "ang.observe(on_valueang_change, names='value')\n",
    "\n",
    "#final displaying\n",
    "vel_box = VBox([lin_box,ang_box])\n",
    "\n",
    "display(vel_box)"
   ]
  },
  {
   "cell_type": "markdown",
   "id": "e2a6347b",
   "metadata": {},
   "source": [
    "### Buttons to control the robot without random behavior"
   ]
  },
  {
   "cell_type": "code",
   "execution_count": 9,
   "id": "32c17337",
   "metadata": {
    "ExecuteTime": {
     "end_time": "2021-07-21T15:39:40.933807Z",
     "start_time": "2021-07-21T15:39:40.462510Z"
    }
   },
   "outputs": [
    {
     "data": {
      "application/vnd.jupyter.widget-view+json": {
       "model_id": "acb35fc75d364d9e9e9cc70e8a4e56d6",
       "version_major": 2,
       "version_minor": 0
      },
      "text/plain": [
       "GridBox(children=(Button(description='STOP', layout=Layout(grid_area='stop', width='auto'), style=ButtonStyle(…"
      ]
     },
     "metadata": {},
     "output_type": "display_data"
    }
   ],
   "source": [
    "# declaration buttons\n",
    "stop = Button(description = \"STOP\", layout= Layout(width='auto', grid_area='stop'),style = ButtonStyle(button_color ='orangered'))\n",
    "forward = Button(description = \"^\", layout= Layout(width='auto', grid_area='forward'),style = ButtonStyle(button_color ='skyblue'))\n",
    "backward = Button(description = \"v\", layout= Layout(width='auto', grid_area='backward'),style = ButtonStyle(button_color ='skyblue'))\n",
    "right = Button(description = \">\", layout= Layout(width='auto', grid_area='right'),style = ButtonStyle(button_color ='skyblue'))\n",
    "left = Button(description = \"<\", layout= Layout(width='auto', grid_area='left'),style = ButtonStyle(button_color ='skyblue'))\n",
    "\n",
    "# defining on_clicked functions\n",
    "def on_stop_clicked(b):\n",
    "    global msg,ui_client\n",
    "    act_client.cancel_all_goals()\n",
    "    ui_client('stop')\n",
    "    msg.linear.x = 0\n",
    "    msg.angular.z = 0\n",
    "    pub.publish(msg)\n",
    "    \n",
    "def on_forward_clicked(b):\n",
    "    global lin,msg,pub,ui_client\n",
    "    act_client.cancel_all_goals()\n",
    "    ui_client('stop')\n",
    "    msg.linear.x = lin.value*0.3\n",
    "    msg.angular.z = 0\n",
    "    pub.publish(msg)\n",
    "    \n",
    "def on_backward_clicked(b):\n",
    "    global lin,msg,pub,ui_client\n",
    "    act_client.cancel_all_goals()\n",
    "    ui_client('stop')\n",
    "    msg.linear.x = -lin.value*0.3\n",
    "    msg.angular.z = 0\n",
    "    pub.publish(msg)\n",
    "    \n",
    "def on_left_clicked(b):\n",
    "    global msg,ang,pub,ui_client\n",
    "    act_client.cancel_all_goals()\n",
    "    ui_client('stop')\n",
    "    msg.linear.x = 0\n",
    "    msg.angular.z = -ang.value*3.0\n",
    "    pub.publish(msg)\n",
    "    \n",
    "def on_right_clicked(b):\n",
    "    global msg,ang,pub,ui_client\n",
    "    act_client.cancel_all_goals()\n",
    "    ui_client('stop')\n",
    "    msg.linear.x = 0\n",
    "    msg.angular.z = ang.value*3.0\n",
    "    pub.publish(msg)\n",
    "    \n",
    "# attach functions to buttons\n",
    "stop.on_click(on_stop_clicked)\n",
    "forward.on_click(on_forward_clicked)\n",
    "backward.on_click(on_backward_clicked)\n",
    "left.on_click(on_left_clicked)\n",
    "right.on_click(on_right_clicked)\n",
    "\n",
    "# show buttons in a grid Box\n",
    "gridBox_buttons = GridBox(children=[stop, forward, backward, right, left],\n",
    "                         layout = Layout(\n",
    "                            width = '400px',\n",
    "                            height = '150px',\n",
    "                            grid_template_rows = '40% 40% 40%',\n",
    "                            grid_template_columns = '20% 20% 20%',\n",
    "                            grid_template_areas ='''\n",
    "                            \". forward .\"\n",
    "                            \"left stop right\"\n",
    "                            \" . backward .\"\n",
    "                            '''\n",
    "                         )\n",
    "                    )\n",
    "display(gridBox_buttons)"
   ]
  },
  {
   "cell_type": "markdown",
   "id": "16894228",
   "metadata": {},
   "source": [
    "## Data visualization"
   ]
  },
  {
   "cell_type": "markdown",
   "id": "e5222fd1",
   "metadata": {
    "heading_collapsed": true
   },
   "source": [
    "### Line plot cmd_vel VS actual velocity"
   ]
  },
  {
   "cell_type": "code",
   "execution_count": 2,
   "id": "a5c55a86",
   "metadata": {
    "ExecuteTime": {
     "end_time": "2021-07-21T15:35:23.262981Z",
     "start_time": "2021-07-21T15:35:21.904398Z"
    },
    "hidden": true,
    "scrolled": true
   },
   "outputs": [
    {
     "data": {
      "application/vnd.jupyter.widget-view+json": {
       "model_id": "464edaa5e9764d3eb021ed3107deedbf",
       "version_major": 2,
       "version_minor": 0
      },
      "text/plain": [
       "Canvas(toolbar=Toolbar(toolitems=[('Home', 'Reset original view', 'home', 'home'), ('Back', 'Back to previous …"
      ]
     },
     "metadata": {},
     "output_type": "display_data"
    }
   ],
   "source": [
    "import numpy as np\n",
    "import matplotlib.pyplot as plt\n",
    "import jupyros as jr\n",
    "import ipywidgets as widgets\n",
    "import rospy\n",
    "from nav_msgs.msg import Odometry\n",
    "from matplotlib import animation, rc\n",
    "from geometry_msgs.msg import Twist\n",
    "\n",
    "#set up the figure\n",
    "fig_vel = plt.figure(1)\n",
    "\n",
    "#set up axis\n",
    "ax_lin = fig_vel.add_subplot(211)\n",
    "ax_ang = fig_vel.add_subplot(212)\n",
    "\n",
    "#lines\n",
    "line_odom_lin, = ax_lin.plot([], [], label= \"odom lin vel\")\n",
    "line_odom_ang, = ax_ang.plot([], [], label= \"odom ang vel\")\n",
    "line_cmd_lin, = ax_lin.plot([],[], label= \"cmd vel lin\")\n",
    "line_cmd_ang, = ax_ang.plot([],[], label= \"cmd ang vel\")\n",
    "\n",
    "#axes features\n",
    "ax_lin.grid()\n",
    "ax_ang.grid()\n",
    "\n",
    "ax_lin.legend()\n",
    "ax_ang.legend()\n",
    "\n",
    "ax_lin.set_title(\"linear velocities\")\n",
    "ax_ang.set_title(\"angular velocities\")\n",
    "\n",
    "ax_lin.set(xlabel = \"Time\", ylabel = \"Magnitude\")\n",
    "ax_ang.set(xlabel = \"Time\", ylabel = \"Magnitude\")\n",
    "\n",
    "plots = [line_odom_lin,line_odom_ang,line_cmd_lin,line_cmd_ang]\n",
    "\n",
    "# data\n",
    "x_odom_data = []\n",
    "x_cmd_data = []\n",
    "vlin_odom_data = []\n",
    "vang_odom_data = []\n",
    "vlin_cmd_data = []\n",
    "vang_cmd_data = []\n",
    "\n",
    "\n",
    "# callbacks\n",
    "def odom_callback(msg_odom):\n",
    "    global vlin_odom_data, vang_odom_data, x_odom_data\n",
    "    \n",
    "    vlin_odom_data.append(msg_odom.twist.twist.linear.x)\n",
    "    vang_odom_data.append(msg_odom.twist.twist.angular.z)\n",
    "    \n",
    "    # set x data on ax_lin \n",
    "    if(len(x_odom_data) != 0):\n",
    "        x_odom_data.append(x_odom_data[len(x_odom_data)-1]+0.05)\n",
    "    else:\n",
    "        x_odom_data.append(0.05)\n",
    "    \n",
    "\n",
    "def cmd_vel_callback(msg_cmd):\n",
    "    global vlin_cmd_data, vang_cmd_data, x_cmd_data\n",
    "    \n",
    "    vlin_cmd_data.append(msg_cmd.linear.x)\n",
    "    vang_cmd_data.append(msg_cmd.angular.z)\n",
    "\n",
    "    # set x data on ax_ang\n",
    "    if(len(x_cmd_data) != 0):\n",
    "        x_cmd_data.append(x_cmd_data[len(x_cmd_data)-1]+0.05)\n",
    "    else:\n",
    "        x_cmd_data.append(0.05)\n",
    "        \n",
    "# initialize the plot\n",
    "def init_vel():\n",
    "    ax_lin.set_xlim (0,10) # time axis\n",
    "    ax_ang.set_xlim (0,10) # time axis\n",
    "    \n",
    "    ax_lin.set_ylim(-0.8,0.8) #vel axis\n",
    "    ax_ang.set_ylim(-0.8,0.8) #vel axis\n",
    "    \n",
    "    return plots,\n",
    "\n",
    "def animate_vel(frame):   \n",
    "    \n",
    "    #update x axis ax_odom\n",
    "    ax_odom_min, ax_odom_max = ax_lin.get_xlim()\n",
    "    \n",
    "    if len(x_odom_data) != 0 and ax_odom_max < x_odom_data[len(x_odom_data)-1]:\n",
    "        ax_lin.set_xlim(ax_odom_max, ax_odom_max+10)\n",
    "        ax_lin.figure.canvas.draw()\n",
    "        \n",
    "    #update x axis ax_cmd\n",
    "    ax_cmd_min,ax_cmd_max = ax_ang.get_xlim()\n",
    "    \n",
    "    \n",
    "    if len(x_cmd_data) != 0 and ax_cmd_max < x_cmd_data[len(x_cmd_data)-1]:\n",
    "        ax_ang.set_xlim(ax_cmd_max, ax_cmd_max+10)\n",
    "        ax_ang.figure.canvas.draw()\n",
    "        \n",
    "    #update odom data\n",
    "    line_odom_lin.set_data(x_odom_data,vlin_odom_data)\n",
    "    line_odom_ang.set_data(x_odom_data,vang_odom_data)\n",
    "    \n",
    "    #update cmd data\n",
    "    line_cmd_lin.set_data(x_cmd_data,vlin_cmd_data)\n",
    "    line_cmd_ang.set_data(x_cmd_data,vang_cmd_data)    \n",
    "    \n",
    "    return plots,\n",
    "    \n",
    "\n",
    "#subscribers\n",
    "sub_odom = rospy.Subscriber('/odom', Odometry, odom_callback)\n",
    "sub_cmd_vel = rospy.Subscriber('/cmd_vel', Twist, cmd_vel_callback)  \n",
    "\n",
    "# show the plots\n",
    "anim = animation.FuncAnimation(fig_vel, animate_vel, init_func = init_vel)\n",
    "fig_vel.tight_layout()\n",
    "fig_vel.show()"
   ]
  },
  {
   "cell_type": "markdown",
   "id": "5c963b18",
   "metadata": {
    "heading_collapsed": true
   },
   "source": [
    "### Number of reached and canceled target"
   ]
  },
  {
   "cell_type": "code",
   "execution_count": 4,
   "id": "74931601",
   "metadata": {
    "ExecuteTime": {
     "end_time": "2021-07-21T16:08:05.684779Z",
     "start_time": "2021-07-21T16:08:05.101360Z"
    },
    "hidden": true
   },
   "outputs": [
    {
     "data": {
      "application/vnd.jupyter.widget-view+json": {
       "model_id": "bdb0fd3042b24a3ea3deff956203276f",
       "version_major": 2,
       "version_minor": 0
      },
      "text/plain": [
       "Canvas(toolbar=Toolbar(toolitems=[('Home', 'Reset original view', 'home', 'home'), ('Back', 'Back to previous …"
      ]
     },
     "metadata": {},
     "output_type": "display_data"
    }
   ],
   "source": [
    "# plot for targets\n",
    "fig_targets = plt.figure(2)\n",
    "ax_targets = fig_targets.add_subplot()\n",
    "ax_targets.set_title(\"number of targets reached or canceled\")\n",
    "\n",
    "#data for targets\n",
    "num_reached = 0\n",
    "num_canceled = 0\n",
    "bars = [0,0]\n",
    "labels = [\"Targets reached\",\"Target canceled\"]\n",
    "col = [\"palegreen\", \"orangered\"]\n",
    "bar_plot = ax_targets.bar(labels,bars,color = col)\n",
    "\n",
    "def action_status_CB(msg):\n",
    "    global num_reached, num_canceled, bar_plot\n",
    "    \n",
    "    if(msg.data == \"SUCCEEDED\"):\n",
    "        num_reached += 1\n",
    "        \n",
    "        #show target plot updated\n",
    "        bar_plot.remove()\n",
    "        rospy.sleep(0.3)\n",
    "        bars[0] = num_reached\n",
    "        bar_plot = ax_targets.bar(labels,bars,color = col)        \n",
    "        \n",
    "    elif(msg.data == \"PREEMPTED\"):\n",
    "        num_canceled += 1  \n",
    "        \n",
    "        #show target plot updated\n",
    "        bar_plot.remove()\n",
    "        rospy.sleep(0.3)\n",
    "        bars[1] = num_canceled\n",
    "        bar_plot = ax_targets.bar(labels,bars,color = col)\n",
    "\n",
    "# status subscriber\n",
    "sub_target = rospy.Subscriber('action_status', String, action_status_CB)\n"
   ]
  },
  {
   "cell_type": "markdown",
   "id": "e17ff355",
   "metadata": {
    "heading_collapsed": true
   },
   "source": [
    "### time required to reach the targets"
   ]
  },
  {
   "cell_type": "code",
   "execution_count": 5,
   "id": "e40d24c3",
   "metadata": {
    "ExecuteTime": {
     "end_time": "2021-07-21T16:08:11.349419Z",
     "start_time": "2021-07-21T16:08:10.594841Z"
    },
    "hidden": true
   },
   "outputs": [
    {
     "data": {
      "application/vnd.jupyter.widget-view+json": {
       "model_id": "29a8e738f83c4bb2b63ddd7f7829b202",
       "version_major": 2,
       "version_minor": 0
      },
      "text/plain": [
       "Canvas(toolbar=Toolbar(toolitems=[('Home', 'Reset original view', 'home', 'home'), ('Back', 'Back to previous …"
      ]
     },
     "metadata": {},
     "output_type": "display_data"
    }
   ],
   "source": [
    "#plot for time to reach targets\n",
    "fig_time = plt.figure(3,figsize=(8,4))\n",
    "ax_time = fig_time.add_subplot()\n",
    "ax_time.set_title(\"Histogram of times to reach targets\")\n",
    "ax_time.set(xlabel = \"Times in sec\", ylabel = \"How many times?\")\n",
    "ax_time.set_xlim(0,60)\n",
    "\n",
    "# data for time to reach targets\n",
    "start_time = rospy.Time()\n",
    "arrival_time = rospy.Time()\n",
    "time_to_reach = []\n",
    "HIST_BINS = 120 # 120 to have a resolution of half of a second in the plot\n",
    "_,_,hist_bars = ax_time.hist(time_to_reach,HIST_BINS, rwidth=0.3, color = \"black\")\n",
    "\n",
    "\n",
    "def action_status_CB_time(msg):\n",
    "    global start_time, arrival_time, time_to_reach, hist_bars\n",
    "    \n",
    "    if(msg.data == \"SUCCEEDED\"):\n",
    "        #take arrival time\n",
    "        arrival_time = rospy.get_rostime()\n",
    "        time_to_reach.append(arrival_time.to_sec() - start_time.to_sec())\n",
    "\n",
    "        #update the histogram of times to reach\n",
    "        [b.remove() for b in hist_bars]\n",
    "        _,_,hist_bars = ax_time.hist(time_to_reach,HIST_BINS,rwidth=0.3, color = \"black\") \n",
    "        \n",
    "    elif(msg.data == \"PENDING\"):\n",
    "        #take starting time\n",
    "        start_time = rospy.get_rostime()\n",
    "\n",
    "# status subscriber\n",
    "sub_time = rospy.Subscriber('action_status', String, action_status_CB_time)"
   ]
  },
  {
   "cell_type": "markdown",
   "id": "163f3a44",
   "metadata": {},
   "source": [
    "### Show robot position and orientation"
   ]
  },
  {
   "cell_type": "code",
   "execution_count": 5,
   "id": "c304ebd9",
   "metadata": {
    "ExecuteTime": {
     "end_time": "2021-07-21T20:24:45.451554Z",
     "start_time": "2021-07-21T20:24:45.213444Z"
    },
    "scrolled": true
   },
   "outputs": [
    {
     "data": {
      "application/vnd.jupyter.widget-view+json": {
       "model_id": "d19a1f1ab63c4eedaedc3b4f357ad9dd",
       "version_major": 2,
       "version_minor": 0
      },
      "text/plain": [
       "Canvas(toolbar=Toolbar(toolitems=[('Home', 'Reset original view', 'home', 'home'), ('Back', 'Back to previous …"
      ]
     },
     "metadata": {},
     "output_type": "display_data"
    }
   ],
   "source": [
    "\n",
    "# First set up the figure and the axis \n",
    "fig_odom = plt.figure(4)\n",
    "ax_odom = fig_odom.add_subplot()\n",
    "ax_odom.grid()\n",
    "\n",
    "line, = plt.plot([], [], 'ro')\n",
    "x_data = [] \n",
    "y_data = []\n",
    "#quaternion = [0,0,0,0]\n",
    "#euler_angles = [0,0,0]\n",
    "\n",
    "def init_odom():\n",
    "    ax_odom.set_xlim(-5,5)\n",
    "    ax_odom.set_ylim(-5,5)\n",
    "    return line,\n",
    "\n",
    "def odom_callback(msg):\n",
    "    global x_data, y_data, quaternion, euler_angles\n",
    "    x_data.append(msg.pose.pose.position.x)\n",
    "    y_data.append(msg.pose.pose.position.y)\n",
    "    #quaternion = [msg.pose.pose.orientation.x,msg.pose.pose.orientation.y,msg.pose.pose.orientation.z,msg.pose.pose.orientation.w]\n",
    "    #euler_angles = euler_from_quaternion(quaternion)\n",
    "    #if len(x_data)!=0 and len(y_data)!=0:\n",
    "        #print(\"arrow done\")\n",
    "        #ax_odom.annotate(x_data[len(x_data)-1]),y_data[len(y_data)-1],0.5*math.cos(euler_angles(2)),0.5*math.sin(euler_angles(2)))\n",
    "        #ax_odom.annotate(\"\", xy=(x_data[len(x_data)-1], y_data[len(y_data)-1]))\n",
    "def animate_odom(frame):\n",
    "    global euler_angles\n",
    "    line.set_data(x_data,y_data)\n",
    "    return line,\n",
    "\n",
    "sub_pos = rospy.Subscriber('odom', Odometry, odom_callback)\n",
    "\n",
    "ani = animation.FuncAnimation(fig_odom, animate_odom, init_func = init_odom)    "
   ]
  },
  {
   "cell_type": "markdown",
   "id": "0c0b9ccd",
   "metadata": {},
   "source": [
    "# Running"
   ]
  },
  {
   "cell_type": "code",
   "execution_count": null,
   "id": "446ad90b",
   "metadata": {},
   "outputs": [],
   "source": []
  }
 ],
 "metadata": {
  "hide_input": false,
  "kernelspec": {
   "display_name": "Python 3 (ipykernel)",
   "language": "python",
   "name": "python3"
  },
  "language_info": {
   "codemirror_mode": {
    "name": "ipython",
    "version": 3
   },
   "file_extension": ".py",
   "mimetype": "text/x-python",
   "name": "python",
   "nbconvert_exporter": "python",
   "pygments_lexer": "ipython3",
   "version": "3.8.5"
  },
  "toc": {
   "base_numbering": 1,
   "nav_menu": {},
   "number_sections": true,
   "sideBar": true,
   "skip_h1_title": true,
   "title_cell": "Table of Contents",
   "title_sidebar": "Contents",
   "toc_cell": false,
   "toc_position": {
    "height": "calc(100% - 180px)",
    "left": "10px",
    "top": "150px",
    "width": "165px"
   },
   "toc_section_display": true,
   "toc_window_display": false
  },
  "varInspector": {
   "cols": {
    "lenName": 16,
    "lenType": 16,
    "lenVar": 40
   },
   "kernels_config": {
    "python": {
     "delete_cmd_postfix": "",
     "delete_cmd_prefix": "del ",
     "library": "var_list.py",
     "varRefreshCmd": "print(var_dic_list())"
    },
    "r": {
     "delete_cmd_postfix": ") ",
     "delete_cmd_prefix": "rm(",
     "library": "var_list.r",
     "varRefreshCmd": "cat(var_dic_list()) "
    }
   },
   "types_to_exclude": [
    "module",
    "function",
    "builtin_function_or_method",
    "instance",
    "_Feature"
   ],
   "window_display": false
  }
 },
 "nbformat": 4,
 "nbformat_minor": 5
}
