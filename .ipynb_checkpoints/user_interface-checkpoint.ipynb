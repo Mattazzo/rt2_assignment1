{
 "cells": [
  {
   "cell_type": "markdown",
   "id": "65cc4524",
   "metadata": {},
   "source": [
    "# User Interface "
   ]
  },
  {
   "cell_type": "markdown",
   "id": "a6172738",
   "metadata": {},
   "source": [
    "## Initilize and import"
   ]
  },
  {
   "cell_type": "code",
   "execution_count": null,
   "id": "2cedae7a",
   "metadata": {
    "ExecuteTime": {
     "start_time": "2021-07-20T08:49:30.709Z"
    }
   },
   "outputs": [],
   "source": [
    "%matplotlib widget\n",
    "import numpy as np\n",
    "import matplotlib.pyplot as plt\n",
    "import jupyros as jr\n",
    "import ipywidgets as widgets\n",
    "import rospy\n",
    "import time\n",
    "import actionlib\n",
    "from std_msgs.msg import String\n",
    "from nav_msgs.msg import Odometry\n",
    "from matplotlib import animation, rc\n",
    "from geometry_msgs.msg import Twist\n",
    "from rt2_assignment1.srv import Command\n",
    "from ipywidgets import Button,GridBox,Layout,FloatSlider,ButtonStyle\n",
    "import rt2_assignment1.msg\n",
    "\n",
    "#init node\n",
    "rospy.init_node('user_interface')\n",
    "\n",
    "# velocities publisher\n",
    "pub = rospy.Publisher('cmd_vel', Twist, queue_size=10)\n",
    "vel_pub = rospy.Publisher('velocities', Twist, queue_size=10)\n",
    "msg = Twist()\n",
    "\n",
    "# user interface client\n",
    "ui_client = rospy.ServiceProxy('/user_interface', Command)\n",
    "\n",
    "#action client\n",
    "act_client = actionlib.SimpleActionClient('position',rt2_assignment1.msg.PositionAction)\n",
    "if(act_client.wait_for_server()):\n",
    "    print(\"Connected to Action Server\")\n",
    "else:\n",
    "    print(\"Unable to connect to Action Server\")"
   ]
  },
  {
   "cell_type": "markdown",
   "id": "28d283f4",
   "metadata": {},
   "source": [
    "## Buttons to start and stop random target behavior"
   ]
  },
  {
   "cell_type": "code",
   "execution_count": 2,
   "id": "9b8bb2ac",
   "metadata": {
    "ExecuteTime": {
     "end_time": "2021-07-20T08:48:02.233165Z",
     "start_time": "2021-07-20T08:48:02.031161Z"
    }
   },
   "outputs": [
    {
     "data": {
      "application/vnd.jupyter.widget-view+json": {
       "model_id": "ae263b7def2b40c5ad89764ab690cf32",
       "version_major": 2,
       "version_minor": 0
      },
      "text/plain": [
       "GridBox(children=(Button(description='START', layout=Layout(grid_area='start_but'), style=ButtonStyle(button_c…"
      ]
     },
     "metadata": {},
     "output_type": "display_data"
    },
    {
     "ename": "ServiceException",
     "evalue": "transport error completing service call: unable to receive data from sender, check sender's logs for details",
     "output_type": "error",
     "traceback": [
      "\u001b[0;31m---------------------------------------------------------------------------\u001b[0m",
      "\u001b[0;31mTransportTerminated\u001b[0m                       Traceback (most recent call last)",
      "\u001b[0;32m/opt/ros/noetic/lib/python3/dist-packages/rospy/impl/tcpros_service.py\u001b[0m in \u001b[0;36mcall\u001b[0;34m(self, *args, **kwds)\u001b[0m\n\u001b[1;32m    521\u001b[0m         \u001b[0;32mtry\u001b[0m\u001b[0;34m:\u001b[0m\u001b[0;34m\u001b[0m\u001b[0;34m\u001b[0m\u001b[0m\n\u001b[0;32m--> 522\u001b[0;31m             \u001b[0mresponses\u001b[0m \u001b[0;34m=\u001b[0m \u001b[0mtransport\u001b[0m\u001b[0;34m.\u001b[0m\u001b[0mreceive_once\u001b[0m\u001b[0;34m(\u001b[0m\u001b[0;34m)\u001b[0m\u001b[0;34m\u001b[0m\u001b[0;34m\u001b[0m\u001b[0m\n\u001b[0m\u001b[1;32m    523\u001b[0m             \u001b[0;32mif\u001b[0m \u001b[0mlen\u001b[0m\u001b[0;34m(\u001b[0m\u001b[0mresponses\u001b[0m\u001b[0;34m)\u001b[0m \u001b[0;34m==\u001b[0m \u001b[0;36m0\u001b[0m\u001b[0;34m:\u001b[0m\u001b[0;34m\u001b[0m\u001b[0;34m\u001b[0m\u001b[0m\n",
      "\u001b[0;32m/opt/ros/noetic/lib/python3/dist-packages/rospy/impl/tcpros_base.py\u001b[0m in \u001b[0;36mreceive_once\u001b[0;34m(self)\u001b[0m\n\u001b[1;32m    736\u001b[0m                 \u001b[0;32mif\u001b[0m \u001b[0;32mnot\u001b[0m \u001b[0mmsg_queue\u001b[0m\u001b[0;34m:\u001b[0m\u001b[0;34m\u001b[0m\u001b[0;34m\u001b[0m\u001b[0m\n\u001b[0;32m--> 737\u001b[0;31m                     \u001b[0mself\u001b[0m\u001b[0;34m.\u001b[0m\u001b[0mstat_bytes\u001b[0m \u001b[0;34m+=\u001b[0m \u001b[0mrecv_buff\u001b[0m\u001b[0;34m(\u001b[0m\u001b[0msock\u001b[0m\u001b[0;34m,\u001b[0m \u001b[0mb\u001b[0m\u001b[0;34m,\u001b[0m \u001b[0mp\u001b[0m\u001b[0;34m.\u001b[0m\u001b[0mbuff_size\u001b[0m\u001b[0;34m)\u001b[0m\u001b[0;34m\u001b[0m\u001b[0;34m\u001b[0m\u001b[0m\n\u001b[0m\u001b[1;32m    738\u001b[0m             \u001b[0mself\u001b[0m\u001b[0;34m.\u001b[0m\u001b[0mstat_num_msg\u001b[0m \u001b[0;34m+=\u001b[0m \u001b[0mlen\u001b[0m\u001b[0;34m(\u001b[0m\u001b[0mmsg_queue\u001b[0m\u001b[0;34m)\u001b[0m \u001b[0;31m#STATS\u001b[0m\u001b[0;34m\u001b[0m\u001b[0;34m\u001b[0m\u001b[0m\n",
      "\u001b[0;32m/opt/ros/noetic/lib/python3/dist-packages/rospy/impl/tcpros_base.py\u001b[0m in \u001b[0;36mrecv_buff\u001b[0;34m(sock, b, buff_size)\u001b[0m\n\u001b[1;32m    108\u001b[0m     \u001b[0;32melse\u001b[0m\u001b[0;34m:\u001b[0m \u001b[0;31m#bomb out\u001b[0m\u001b[0;34m\u001b[0m\u001b[0;34m\u001b[0m\u001b[0m\n\u001b[0;32m--> 109\u001b[0;31m         \u001b[0;32mraise\u001b[0m \u001b[0mTransportTerminated\u001b[0m\u001b[0;34m(\u001b[0m\u001b[0;34m\"unable to receive data from sender, check sender's logs for details\"\u001b[0m\u001b[0;34m)\u001b[0m\u001b[0;34m\u001b[0m\u001b[0;34m\u001b[0m\u001b[0m\n\u001b[0m\u001b[1;32m    110\u001b[0m \u001b[0;34m\u001b[0m\u001b[0m\n",
      "\u001b[0;31mTransportTerminated\u001b[0m: unable to receive data from sender, check sender's logs for details",
      "\nDuring handling of the above exception, another exception occurred:\n",
      "\u001b[0;31mServiceException\u001b[0m                          Traceback (most recent call last)",
      "\u001b[0;32m/tmp/ipykernel_7215/2180979695.py\u001b[0m in \u001b[0;36mon_start_clicked\u001b[0;34m(b)\u001b[0m\n\u001b[1;32m      4\u001b[0m \u001b[0;32mdef\u001b[0m \u001b[0mon_start_clicked\u001b[0m\u001b[0;34m(\u001b[0m\u001b[0mb\u001b[0m\u001b[0;34m)\u001b[0m\u001b[0;34m:\u001b[0m\u001b[0;34m\u001b[0m\u001b[0;34m\u001b[0m\u001b[0m\n\u001b[1;32m      5\u001b[0m     \u001b[0;32mglobal\u001b[0m \u001b[0mui_client\u001b[0m\u001b[0;34m\u001b[0m\u001b[0;34m\u001b[0m\u001b[0m\n\u001b[0;32m----> 6\u001b[0;31m     \u001b[0mui_client\u001b[0m\u001b[0;34m(\u001b[0m\u001b[0;34m'start'\u001b[0m\u001b[0;34m)\u001b[0m\u001b[0;34m\u001b[0m\u001b[0;34m\u001b[0m\u001b[0m\n\u001b[0m\u001b[1;32m      7\u001b[0m     \u001b[0mprint\u001b[0m\u001b[0;34m(\u001b[0m\u001b[0;34m\"start\"\u001b[0m\u001b[0;34m)\u001b[0m\u001b[0;34m\u001b[0m\u001b[0;34m\u001b[0m\u001b[0m\n\u001b[1;32m      8\u001b[0m \u001b[0;34m\u001b[0m\u001b[0m\n",
      "\u001b[0;32m/opt/ros/noetic/lib/python3/dist-packages/rospy/impl/tcpros_service.py\u001b[0m in \u001b[0;36m__call__\u001b[0;34m(self, *args, **kwds)\u001b[0m\n\u001b[1;32m    440\u001b[0m         \u001b[0mmessage\u001b[0m\u001b[0;34m.\u001b[0m \u001b[0mThis\u001b[0m \u001b[0;32mis\u001b[0m \u001b[0musually\u001b[0m \u001b[0ma\u001b[0m \u001b[0mtype\u001b[0m \u001b[0merror\u001b[0m \u001b[0;32mwith\u001b[0m \u001b[0mone\u001b[0m \u001b[0mof\u001b[0m \u001b[0mthe\u001b[0m \u001b[0mfields\u001b[0m\u001b[0;34m.\u001b[0m\u001b[0;34m\u001b[0m\u001b[0;34m\u001b[0m\u001b[0m\n\u001b[1;32m    441\u001b[0m         \"\"\"\n\u001b[0;32m--> 442\u001b[0;31m         \u001b[0;32mreturn\u001b[0m \u001b[0mself\u001b[0m\u001b[0;34m.\u001b[0m\u001b[0mcall\u001b[0m\u001b[0;34m(\u001b[0m\u001b[0;34m*\u001b[0m\u001b[0margs\u001b[0m\u001b[0;34m,\u001b[0m \u001b[0;34m**\u001b[0m\u001b[0mkwds\u001b[0m\u001b[0;34m)\u001b[0m\u001b[0;34m\u001b[0m\u001b[0;34m\u001b[0m\u001b[0m\n\u001b[0m\u001b[1;32m    443\u001b[0m \u001b[0;34m\u001b[0m\u001b[0m\n\u001b[1;32m    444\u001b[0m     \u001b[0;32mdef\u001b[0m \u001b[0m_get_service_uri\u001b[0m\u001b[0;34m(\u001b[0m\u001b[0mself\u001b[0m\u001b[0;34m,\u001b[0m \u001b[0mrequest\u001b[0m\u001b[0;34m)\u001b[0m\u001b[0;34m:\u001b[0m\u001b[0;34m\u001b[0m\u001b[0;34m\u001b[0m\u001b[0m\n",
      "\u001b[0;32m/opt/ros/noetic/lib/python3/dist-packages/rospy/impl/tcpros_service.py\u001b[0m in \u001b[0;36mcall\u001b[0;34m(self, *args, **kwds)\u001b[0m\n\u001b[1;32m    530\u001b[0m                 \u001b[0;32mraise\u001b[0m \u001b[0mrospy\u001b[0m\u001b[0;34m.\u001b[0m\u001b[0mexceptions\u001b[0m\u001b[0;34m.\u001b[0m\u001b[0mROSInterruptException\u001b[0m\u001b[0;34m(\u001b[0m\u001b[0;34m\"node shutdown interrupted service call\"\u001b[0m\u001b[0;34m)\u001b[0m\u001b[0;34m\u001b[0m\u001b[0;34m\u001b[0m\u001b[0m\n\u001b[1;32m    531\u001b[0m             \u001b[0;32melse\u001b[0m\u001b[0;34m:\u001b[0m\u001b[0;34m\u001b[0m\u001b[0;34m\u001b[0m\u001b[0m\n\u001b[0;32m--> 532\u001b[0;31m                 \u001b[0;32mraise\u001b[0m \u001b[0mServiceException\u001b[0m\u001b[0;34m(\u001b[0m\u001b[0;34m\"transport error completing service call: %s\"\u001b[0m\u001b[0;34m%\u001b[0m\u001b[0;34m(\u001b[0m\u001b[0mstr\u001b[0m\u001b[0;34m(\u001b[0m\u001b[0me\u001b[0m\u001b[0;34m)\u001b[0m\u001b[0;34m)\u001b[0m\u001b[0;34m)\u001b[0m\u001b[0;34m\u001b[0m\u001b[0;34m\u001b[0m\u001b[0m\n\u001b[0m\u001b[1;32m    533\u001b[0m         \u001b[0;32mfinally\u001b[0m\u001b[0;34m:\u001b[0m\u001b[0;34m\u001b[0m\u001b[0;34m\u001b[0m\u001b[0m\n\u001b[1;32m    534\u001b[0m             \u001b[0;32mif\u001b[0m \u001b[0;32mnot\u001b[0m \u001b[0mself\u001b[0m\u001b[0;34m.\u001b[0m\u001b[0mpersistent\u001b[0m\u001b[0;34m:\u001b[0m\u001b[0;34m\u001b[0m\u001b[0;34m\u001b[0m\u001b[0m\n",
      "\u001b[0;31mServiceException\u001b[0m: transport error completing service call: unable to receive data from sender, check sender's logs for details"
     ]
    }
   ],
   "source": [
    "start_but = Button(description = \"START\", layout = Layout(grid_area='start_but'), style = ButtonStyle(button_color ='green'))\n",
    "stop_but = Button(description = \"STOP\", layout = Layout(grid_area='stop_but'), style = ButtonStyle(button_color ='red'))\n",
    "\n",
    "def on_start_clicked(b):\n",
    "    global ui_client\n",
    "    ui_client('start')\n",
    "    print(\"start\")\n",
    "\n",
    "def on_stop_clicked(b):\n",
    "    global ui_client\n",
    "    act_client.cancel_all_goals()\n",
    "    ui_client('stop')\n",
    "    print(\"goal canceled\")\n",
    "\n",
    "start_but.on_click(on_start_clicked)\n",
    "stop_but.on_click(on_stop_clicked)\n",
    "\n",
    "# show buttons in a grid Box\n",
    "gridBox = GridBox(children=[start_but, stop_but],\n",
    "                         layout = Layout(\n",
    "                            width = '50%',\n",
    "                            grid_template_rows = '10%',\n",
    "                            grid_template_columns = '50% 50%',\n",
    "                            grid_template_areas = ''' \"start_but stop_but\" '''\n",
    "                         )\n",
    "                    )\n",
    "display(gridBox)\n"
   ]
  },
  {
   "cell_type": "markdown",
   "id": "886409d8",
   "metadata": {},
   "source": [
    "## Slider to set linear and angular velocity"
   ]
  },
  {
   "cell_type": "code",
   "execution_count": 3,
   "id": "21e1994d",
   "metadata": {
    "ExecuteTime": {
     "end_time": "2021-07-20T08:48:05.719139Z",
     "start_time": "2021-07-20T08:48:05.561847Z"
    }
   },
   "outputs": [
    {
     "data": {
      "application/vnd.jupyter.widget-view+json": {
       "model_id": "4f5596b188c5495daccadbddb5964de6",
       "version_major": 2,
       "version_minor": 0
      },
      "text/plain": [
       "FloatSlider(value=1.0, max=2.0)"
      ]
     },
     "metadata": {},
     "output_type": "display_data"
    },
    {
     "data": {
      "application/vnd.jupyter.widget-view+json": {
       "model_id": "75eccc36b1114db6ac86c92a4acdb158",
       "version_major": 2,
       "version_minor": 0
      },
      "text/plain": [
       "FloatSlider(value=3.0, max=5.0)"
      ]
     },
     "metadata": {},
     "output_type": "display_data"
    }
   ],
   "source": [
    "# slider for lin vel\n",
    "lin = FloatSlider(min=0.0, max=2.0,value = 1.0)\n",
    "display(lin)\n",
    "\n",
    "#slider for ang vel\n",
    "ang = FloatSlider(min=0.0, max=5.0, value = 3.0)\n",
    "display(ang)\n",
    "\n",
    "# fun to change lin vel ( maybe could send a twist on a topic and go to point could read it to set vel)\n",
    "def on_value_change(change):\n",
    "    global msg\n",
    "    msg.linear.x = change['new']\n",
    "    vel_pub.publish(msg)\n",
    "\n",
    "# fun to change ang vel\n",
    "def on_valueang_change(change):\n",
    "    global msg\n",
    "    msg.angular.z = change['new']\n",
    "    vel_pub.publish(msg)\n",
    "\n",
    "lin.observe(on_value_change, names='value')\n",
    "ang.observe(on_valueang_change, names='value')"
   ]
  },
  {
   "cell_type": "markdown",
   "id": "e2a6347b",
   "metadata": {},
   "source": [
    "## Buttons to control the robot without random behavior"
   ]
  },
  {
   "cell_type": "code",
   "execution_count": 1,
   "id": "32c17337",
   "metadata": {
    "ExecuteTime": {
     "end_time": "2021-07-20T07:35:31.920593Z",
     "start_time": "2021-07-20T07:35:31.794583Z"
    }
   },
   "outputs": [
    {
     "ename": "NameError",
     "evalue": "name 'Button' is not defined",
     "output_type": "error",
     "traceback": [
      "\u001b[0;31m---------------------------------------------------------------------------\u001b[0m",
      "\u001b[0;31mNameError\u001b[0m                                 Traceback (most recent call last)",
      "\u001b[0;32m/tmp/ipykernel_683/2521029372.py\u001b[0m in \u001b[0;36m<module>\u001b[0;34m\u001b[0m\n\u001b[1;32m      1\u001b[0m \u001b[0;31m# declaration buttons\u001b[0m\u001b[0;34m\u001b[0m\u001b[0;34m\u001b[0m\u001b[0;34m\u001b[0m\u001b[0m\n\u001b[0;32m----> 2\u001b[0;31m \u001b[0mstop\u001b[0m \u001b[0;34m=\u001b[0m \u001b[0mButton\u001b[0m\u001b[0;34m(\u001b[0m\u001b[0mdescription\u001b[0m \u001b[0;34m=\u001b[0m \u001b[0;34m\"STOP\"\u001b[0m\u001b[0;34m,\u001b[0m \u001b[0mlayout\u001b[0m\u001b[0;34m=\u001b[0m \u001b[0mLayout\u001b[0m\u001b[0;34m(\u001b[0m\u001b[0mwidth\u001b[0m\u001b[0;34m=\u001b[0m\u001b[0;34m'auto'\u001b[0m\u001b[0;34m,\u001b[0m \u001b[0mgrid_area\u001b[0m\u001b[0;34m=\u001b[0m\u001b[0;34m'stop'\u001b[0m\u001b[0;34m)\u001b[0m\u001b[0;34m)\u001b[0m\u001b[0;34m\u001b[0m\u001b[0;34m\u001b[0m\u001b[0m\n\u001b[0m\u001b[1;32m      3\u001b[0m \u001b[0mforward\u001b[0m \u001b[0;34m=\u001b[0m \u001b[0mButton\u001b[0m\u001b[0;34m(\u001b[0m\u001b[0mdescription\u001b[0m \u001b[0;34m=\u001b[0m \u001b[0;34m\"^\"\u001b[0m\u001b[0;34m,\u001b[0m \u001b[0mlayout\u001b[0m\u001b[0;34m=\u001b[0m \u001b[0mLayout\u001b[0m\u001b[0;34m(\u001b[0m\u001b[0mwidth\u001b[0m\u001b[0;34m=\u001b[0m\u001b[0;34m'auto'\u001b[0m\u001b[0;34m,\u001b[0m \u001b[0mgrid_area\u001b[0m\u001b[0;34m=\u001b[0m\u001b[0;34m'forward'\u001b[0m\u001b[0;34m)\u001b[0m\u001b[0;34m)\u001b[0m\u001b[0;34m\u001b[0m\u001b[0;34m\u001b[0m\u001b[0m\n\u001b[1;32m      4\u001b[0m \u001b[0mbackward\u001b[0m \u001b[0;34m=\u001b[0m \u001b[0mButton\u001b[0m\u001b[0;34m(\u001b[0m\u001b[0mdescription\u001b[0m \u001b[0;34m=\u001b[0m \u001b[0;34m\"v\"\u001b[0m\u001b[0;34m,\u001b[0m \u001b[0mlayout\u001b[0m\u001b[0;34m=\u001b[0m \u001b[0mLayout\u001b[0m\u001b[0;34m(\u001b[0m\u001b[0mwidth\u001b[0m\u001b[0;34m=\u001b[0m\u001b[0;34m'auto'\u001b[0m\u001b[0;34m,\u001b[0m \u001b[0mgrid_area\u001b[0m\u001b[0;34m=\u001b[0m\u001b[0;34m'backward'\u001b[0m\u001b[0;34m)\u001b[0m\u001b[0;34m)\u001b[0m\u001b[0;34m\u001b[0m\u001b[0;34m\u001b[0m\u001b[0m\n\u001b[1;32m      5\u001b[0m \u001b[0mright\u001b[0m \u001b[0;34m=\u001b[0m \u001b[0mButton\u001b[0m\u001b[0;34m(\u001b[0m\u001b[0mdescription\u001b[0m \u001b[0;34m=\u001b[0m \u001b[0;34m\">\"\u001b[0m\u001b[0;34m,\u001b[0m \u001b[0mlayout\u001b[0m\u001b[0;34m=\u001b[0m \u001b[0mLayout\u001b[0m\u001b[0;34m(\u001b[0m\u001b[0mwidth\u001b[0m\u001b[0;34m=\u001b[0m\u001b[0;34m'auto'\u001b[0m\u001b[0;34m,\u001b[0m \u001b[0mgrid_area\u001b[0m\u001b[0;34m=\u001b[0m\u001b[0;34m'right'\u001b[0m\u001b[0;34m)\u001b[0m\u001b[0;34m)\u001b[0m\u001b[0;34m\u001b[0m\u001b[0;34m\u001b[0m\u001b[0m\n",
      "\u001b[0;31mNameError\u001b[0m: name 'Button' is not defined"
     ]
    }
   ],
   "source": [
    "# declaration buttons\n",
    "stop = Button(description = \"STOP\", layout= Layout(width='auto', grid_area='stop'))\n",
    "forward = Button(description = \"^\", layout= Layout(width='auto', grid_area='forward'))\n",
    "backward = Button(description = \"v\", layout= Layout(width='auto', grid_area='backward'))\n",
    "right = Button(description = \">\", layout= Layout(width='auto', grid_area='right'))\n",
    "left = Button(description = \"<\", layout= Layout(width='auto', grid_area='left'))\n",
    "\n",
    "# defining on_clicked functions\n",
    "def on_stop_clicked(b):\n",
    "    global msg,ui_client\n",
    "    ui_client('stop')\n",
    "    act_client.cancel_all_goals()\n",
    "    msg.linear.x = 0\n",
    "    msg.angular.z = 0\n",
    "    pub.publish(msg)\n",
    "    \n",
    "def on_forward_clicked(b):\n",
    "    global lin,msg,pub,ui_client\n",
    "    ui_client('stop')\n",
    "    act_client.cancel_all_goals()\n",
    "    msg.linear.x = lin.value*0.3\n",
    "    msg.angular.z = 0\n",
    "    pub.publish(msg)\n",
    "    \n",
    "def on_backward_clicked(b):\n",
    "    global lin,msg,pub,ui_client\n",
    "    ui_client('stop')\n",
    "    act_client.cancel_all_goals()\n",
    "    msg.linear.x = -lin.value*0.3\n",
    "    msg.angular.z = 0\n",
    "    pub.publish(msg)\n",
    "    \n",
    "def on_left_clicked(b):\n",
    "    global msg,ang,pub,ui_client\n",
    "    ui_client('stop')\n",
    "    act_client.cancel_all_goals()\n",
    "    msg.linear.x = 0\n",
    "    msg.angular.z = -ang.value*3.0\n",
    "    pub.publish(msg)\n",
    "    \n",
    "def on_right_clicked(b):\n",
    "    global msg,ang,pub,ui_client\n",
    "    ui_client('stop')\n",
    "    act_client.cancel_all_goals()\n",
    "    msg.linear.x = 0\n",
    "    msg.angular.z = ang.value*3.0\n",
    "    pub.publish(msg)\n",
    "    \n",
    "# attach functions to buttons\n",
    "stop.on_click(on_stop_clicked)\n",
    "forward.on_click(on_forward_clicked)\n",
    "backward.on_click(on_backward_clicked)\n",
    "left.on_click(on_left_clicked)\n",
    "right.on_click(on_right_clicked)\n",
    "\n",
    "# show buttons in a grid Box\n",
    "gridBox_buttons = GridBox(children=[stop, forward, backward, right, left],\n",
    "                         layout = Layout(\n",
    "                            width = '400px',\n",
    "                            height = '100px',\n",
    "                            grid_template_rows = '40% 40% 40%',\n",
    "                            grid_template_columns = '20% 20% 20%',\n",
    "                            grid_template_areas ='''\n",
    "                            \". forward .\"\n",
    "                            \"left stop right\"\n",
    "                            \" . backward .\"\n",
    "                            '''\n",
    "                         )\n",
    "                    )\n",
    "display(gridBox_buttons)"
   ]
  },
  {
   "cell_type": "markdown",
   "id": "e5222fd1",
   "metadata": {},
   "source": [
    "## Line plot cmd_vel VS actual velocity"
   ]
  },
  {
   "cell_type": "code",
   "execution_count": 4,
   "id": "a5c55a86",
   "metadata": {
    "ExecuteTime": {
     "end_time": "2021-07-20T08:45:58.913875Z",
     "start_time": "2021-07-20T08:45:57.523562Z"
    },
    "scrolled": true
   },
   "outputs": [
    {
     "data": {
      "application/vnd.jupyter.widget-view+json": {
       "model_id": "aa8340914453492ebd00c68a4e655610",
       "version_major": 2,
       "version_minor": 0
      },
      "text/plain": [
       "Canvas(toolbar=Toolbar(toolitems=[('Home', 'Reset original view', 'home', 'home'), ('Back', 'Back to previous …"
      ]
     },
     "metadata": {},
     "output_type": "display_data"
    },
    {
     "name": "stderr",
     "output_type": "stream",
     "text": [
      "ERROR:tornado.application:Exception in callback <bound method TimerBase._on_timer of <matplotlib.backends.backend_webagg_core.TimerTornado object at 0x7ff3e8060040>>\n",
      "Traceback (most recent call last):\n",
      "  File \"/usr/local/lib/python3.8/dist-packages/tornado/ioloop.py\", line 905, in _run\n",
      "    return self.callback()\n",
      "  File \"/usr/lib/python3/dist-packages/matplotlib/backend_bases.py\", line 1194, in _on_timer\n",
      "    ret = func(*args, **kwargs)\n",
      "  File \"/usr/lib/python3/dist-packages/matplotlib/animation.py\", line 1447, in _step\n",
      "    still_going = Animation._step(self, *args)\n",
      "  File \"/usr/lib/python3/dist-packages/matplotlib/animation.py\", line 1173, in _step\n",
      "    self._draw_next_frame(framedata, self._blit)\n",
      "  File \"/usr/lib/python3/dist-packages/matplotlib/animation.py\", line 1192, in _draw_next_frame\n",
      "    self._draw_frame(framedata)\n",
      "  File \"/usr/lib/python3/dist-packages/matplotlib/animation.py\", line 1755, in _draw_frame\n",
      "    self._drawn_artists = self._func(framedata, *self._args)\n",
      "  File \"/tmp/ipykernel_6501/2275041633.py\", line 85, in animate_vel\n",
      "    if(len(x_odom_data) != 0 and ax_lin_max < x_odom_data[len(x_odom_data)-1]):\n",
      "NameError: name 'x_odom_data' is not defined\n",
      "ERROR:tornado.application:Exception in callback <bound method TimerBase._on_timer of <matplotlib.backends.backend_webagg_core.TimerTornado object at 0x7ff3e8060040>>\n",
      "Traceback (most recent call last):\n",
      "  File \"/usr/local/lib/python3.8/dist-packages/tornado/ioloop.py\", line 905, in _run\n",
      "    return self.callback()\n",
      "  File \"/usr/lib/python3/dist-packages/matplotlib/backend_bases.py\", line 1194, in _on_timer\n",
      "    ret = func(*args, **kwargs)\n",
      "  File \"/usr/lib/python3/dist-packages/matplotlib/animation.py\", line 1447, in _step\n",
      "    still_going = Animation._step(self, *args)\n",
      "  File \"/usr/lib/python3/dist-packages/matplotlib/animation.py\", line 1173, in _step\n",
      "    self._draw_next_frame(framedata, self._blit)\n",
      "  File \"/usr/lib/python3/dist-packages/matplotlib/animation.py\", line 1192, in _draw_next_frame\n",
      "    self._draw_frame(framedata)\n",
      "  File \"/usr/lib/python3/dist-packages/matplotlib/animation.py\", line 1755, in _draw_frame\n",
      "    self._drawn_artists = self._func(framedata, *self._args)\n",
      "  File \"/tmp/ipykernel_6501/2275041633.py\", line 85, in animate_vel\n",
      "    if(len(x_odom_data) != 0 and ax_lin_max < x_odom_data[len(x_odom_data)-1]):\n",
      "NameError: name 'x_odom_data' is not defined\n",
      "ERROR:tornado.application:Exception in callback <bound method TimerBase._on_timer of <matplotlib.backends.backend_webagg_core.TimerTornado object at 0x7ff3e8060040>>\n",
      "Traceback (most recent call last):\n",
      "  File \"/usr/local/lib/python3.8/dist-packages/tornado/ioloop.py\", line 905, in _run\n",
      "    return self.callback()\n",
      "  File \"/usr/lib/python3/dist-packages/matplotlib/backend_bases.py\", line 1194, in _on_timer\n",
      "    ret = func(*args, **kwargs)\n",
      "  File \"/usr/lib/python3/dist-packages/matplotlib/animation.py\", line 1447, in _step\n",
      "    still_going = Animation._step(self, *args)\n",
      "  File \"/usr/lib/python3/dist-packages/matplotlib/animation.py\", line 1173, in _step\n",
      "    self._draw_next_frame(framedata, self._blit)\n",
      "  File \"/usr/lib/python3/dist-packages/matplotlib/animation.py\", line 1192, in _draw_next_frame\n",
      "    self._draw_frame(framedata)\n",
      "  File \"/usr/lib/python3/dist-packages/matplotlib/animation.py\", line 1755, in _draw_frame\n",
      "    self._drawn_artists = self._func(framedata, *self._args)\n",
      "  File \"/tmp/ipy"
     ]
    }
   ],
   "source": [
    "%matplotlib widget\n",
    "import numpy as np\n",
    "import matplotlib.pyplot as plt\n",
    "import jupyros as jr\n",
    "import ipywidgets as widgets\n",
    "import rospy\n",
    "from nav_msgs.msg import Odometry\n",
    "from matplotlib import animation, rc\n",
    "from geometry_msgs.msg import Twist\n",
    "\n",
    "#set up the figure\n",
    "fig_vel = plt.figure(1)\n",
    "\n",
    "#set up axis\n",
    "ax_lin = fig_vel.add_subplot(211)\n",
    "ax_ang = fig_vel.add_subplot(212)\n",
    "\n",
    "#lines\n",
    "line_odom_lin, = ax_lin.plot([], [], label= \"odom lin vel\")\n",
    "line_odom_ang, = ax_ang.plot([], [], label= \"odom ang vel\")\n",
    "line_cmd_lin, = ax_lin.plot([],[], label= \"cmd vel lin\")\n",
    "line_cmd_ang, = ax_ang.plot([],[], label= \"cmd ang vel\")\n",
    "\n",
    "#axes features\n",
    "ax_lin.grid()\n",
    "ax_ang.grid()\n",
    "\n",
    "ax_lin.legend()\n",
    "ax_ang.legend()\n",
    "\n",
    "ax_lin.set_title(\"linear velocities\")\n",
    "ax_ang.set_title(\"angular velocities\")\n",
    "\n",
    "ax_lin.set(xlabel = \"Time\", ylabel = \"Magnitude\")\n",
    "ax_ang.set(xlabel = \"Time\", ylabel = \"Magnitude\")\n",
    "\n",
    "# data\n",
    "x_lin_data = []\n",
    "x_ang_data = []\n",
    "\n",
    "vlin_odom_data = []\n",
    "vang_odom_data = []\n",
    "\n",
    "vlin_cmd_data = []\n",
    "vang_cmd_data = []\n",
    "\n",
    "# initialize the plot\n",
    "def init_vel():\n",
    "    ax_lin.set_xlim (0,5) # time axis\n",
    "    ax_ang.set_xlim (0,5) # time axis\n",
    "    ax_lin.set_ylim(-0.8,0.8) #vel axis\n",
    "    ax_ang.set_ylim(-0.8,0.8) #vel axis\n",
    "    return [line_odom_lin,line_odom_ang,line_cmd_lin,line_cmd_ang],\n",
    "\n",
    "# callbacks\n",
    "def odom_callback(msg_odom):\n",
    "    global vlin_odom_data, vang_odom_data, x_lin_data\n",
    "    \n",
    "    vlin_odom_data.append(msg_odom.twist.twist.linear.x)\n",
    "    vang_odom_data.append(msg_odom.twist.twist.angular.z)\n",
    "    \n",
    "     # set x data on ax_lin \n",
    "    if(len(x_lin_data) != 0):\n",
    "        x_lin_data.append(x_lin_data[len(x_lin_data)-1]+0.05)\n",
    "    else:\n",
    "        x_lin_data.append(0.05)\n",
    "        \n",
    "def cmd_vel_callback(msg_cmd):\n",
    "    global vlin_cmd_data,vang_cmd_data,x_ang_data\n",
    "    \n",
    "    vlin_cmd_data.append(msg_cmd.linear.x)\n",
    "    vang_cmd_data.append(msg_cmd.angular.z)\n",
    "    \n",
    "    # set x data on ax_ang\n",
    "    if(len(x_ang_data) != 0):\n",
    "        x_ang_data.append(x_ang_data[len(x_ang_data)-1]+0.05)\n",
    "    else:\n",
    "        x_ang_data.append(0.05)\n",
    "\n",
    "def animate_vel(frame):   \n",
    "    \n",
    "    #update x axis ax_lin\n",
    "    ax_lin_min,ax_lin_max = ax_lin.get_xlim()\n",
    "     \n",
    "    if(len(x_lin_data) != 0 and ax_lin_max < x_lin_data[len(x_lin_data)-1]):\n",
    "        ax_lin.set_xlim(ax_lin_min, 2*ax_lin_max)\n",
    "        ax_lin.figure.canvas.draw()\n",
    "        \n",
    "    #update x axis ax_ang\n",
    "    ax_ang_min,ax_ang_max = ax_ang.get_xlim()\n",
    "    \n",
    "    if(len(x_ang_data) != 0 and ax_ang_max < x_ang_data[len(x_ang_data)-1]):\n",
    "        ax_ang.set_xlim(ax_ang_min, 2*ax_ang_max)\n",
    "        ax_ang.figure.canvas.draw()\n",
    "        \n",
    "    #update odom data\n",
    "    line_odom_lin.set_data(x_lin_data,vlin_odom_data)\n",
    "    line_odom_ang.set_data(x_ang_data,vang_odom_data)\n",
    "    \n",
    "    #update cmd data\n",
    "    line_cmd_lin.set_data(x_lin_data,vlin_cmd_data)\n",
    "    line_cmd_ang.set_data(x_ang_data,vang_cmd_data)    \n",
    "    \n",
    "    return [line_odom_lin,line_odom_ang,line_cmd_lin,line_cmd_ang],\n",
    "    \n",
    "\n",
    "#subscribers\n",
    "sub_odom = jr.subscribe('/odom', Odometry, odom_callback)\n",
    "sub_cmd_vel = jr.subscribe('/cmd_vel', Twist, cmd_vel_callback)  \n",
    "\n",
    "# show the plots\n",
    "anim = animation.FuncAnimation(fig_vel, animate_vel, init_func = init_vel)\n",
    "fig_vel.show()"
   ]
  },
  {
   "cell_type": "markdown",
   "id": "5c963b18",
   "metadata": {},
   "source": [
    "## Number of reached and canceled target"
   ]
  },
  {
   "cell_type": "code",
   "execution_count": 4,
   "id": "74931601",
   "metadata": {
    "ExecuteTime": {
     "end_time": "2021-07-20T07:57:38.586065Z",
     "start_time": "2021-07-20T07:57:38.403021Z"
    }
   },
   "outputs": [],
   "source": [
    "%matplotlib widget\n",
    "num_reached = 0\n",
    "num_canceled = 0\n",
    "start_time = rospy.Time()\n",
    "arrival_time = rospy.Time()\n",
    "time_to_reach = []\n",
    "\n",
    "def action_status_CB(msg):\n",
    "    global num_reached, num_canceled, start_time, arrival_time, time_to_reach\n",
    "    \n",
    "    print(\"reade: \" + msg.data)\n",
    "    \n",
    "    if(msg.data == \"SUCCEEDED\"):\n",
    "        num_reached += 1\n",
    "        print(\"num_reached: \" + str(num_reached))\n",
    "        #take arrival time\n",
    "        arrival_time = rospy.get_rostime()\n",
    "        time_to_reach.append(arrival_time.to_sec() - start_time.to_sec())\n",
    "        print(\"time to reach a goal: \"+ str(time_to_reach))\n",
    "        \n",
    "    elif(msg.data == \"PREEMPTED\"):\n",
    "        num_canceled += 1  \n",
    "        print(\"num_canceled: \" + str(num_canceled))\n",
    "        \n",
    "    elif(msg.data == \"PENDING\"):\n",
    "        #take starting time\n",
    "        start_time = rospy.get_rostime()\n",
    "\n",
    "# status subscriber\n",
    "sub_status = jr.subscribe('action_status', String, action_status_CB)\n",
    "\n",
    "\n",
    "#fig_targets, ax_targets = plt.subplots()\n",
    "#bars = [0, 0]\n",
    "#labels = [\"Targets reached\",\"Target canceled\"]\n",
    "#bar_plot = plt.bar(labels,bars)\n",
    "\n",
    "#def init():\n",
    "#    bar_plot.set_data(labels,bars)\n",
    " #   return bar_plot\n",
    "    \n",
    "#def animate_targets(i):\n",
    " #   global num_reached, num_canceled\n",
    "  #  bars[0] = num_reached\n",
    "   # bars[1] = num_canceled\n",
    "   # bar_plot.set_data(labels,bars)\n",
    "   # return bar_plot,\n",
    "    \n",
    "# show the plot\n",
    "#anim = animation.FuncAnimation(fig_targets, animate_targets, init_func = init, blit = True)\n",
    "   "
   ]
  },
  {
   "cell_type": "markdown",
   "id": "e17ff355",
   "metadata": {},
   "source": [
    "## time required to reach the targets"
   ]
  },
  {
   "cell_type": "code",
   "execution_count": null,
   "id": "0f304c0f",
   "metadata": {
    "ExecuteTime": {
     "start_time": "2021-07-19T12:15:14.439Z"
    }
   },
   "outputs": [],
   "source": [
    "global time_to_reach\n",
    "for i in range(len(time_to_reach)):\n",
    "    print(\"time to reach goal \" + i + \": \" + time_to_reach[i])"
   ]
  },
  {
   "cell_type": "markdown",
   "id": "163f3a44",
   "metadata": {},
   "source": [
    "## Show robot position and orientation"
   ]
  },
  {
   "cell_type": "code",
   "execution_count": 5,
   "id": "c304ebd9",
   "metadata": {
    "ExecuteTime": {
     "end_time": "2021-07-20T07:59:44.930874Z",
     "start_time": "2021-07-20T07:59:44.511217Z"
    },
    "scrolled": true
   },
   "outputs": [
    {
     "data": {
      "application/vnd.jupyter.widget-view+json": {
       "model_id": "85a2e6128d244f6fb872f98daefb0d59",
       "version_major": 2,
       "version_minor": 0
      },
      "text/plain": [
       "Canvas(toolbar=Toolbar(toolitems=[('Home', 'Reset original view', 'home', 'home'), ('Back', 'Back to previous …"
      ]
     },
     "metadata": {},
     "output_type": "display_data"
    }
   ],
   "source": [
    "%matplotlib widget\n",
    "# First set up the figure and the axis \n",
    "fig_odom, ax_odom = plt.subplots()\n",
    "ax_odom.grid()\n",
    "\n",
    "line, = plt.plot([], [], 'ro')\n",
    "x_data = [] \n",
    "y_data = []\n",
    "\n",
    "def init_odom():\n",
    "    ax_odom.set_xlim(-5,5)\n",
    "    ax_odom.set_ylim(-5,5)\n",
    "    return line,\n",
    "\n",
    "def odom_callback(msg):\n",
    "    x_data.append(msg.pose.pose.position.x)\n",
    "    y_data.append(msg.pose.pose.position.y)\n",
    "\n",
    "def animate_odom(frame):\n",
    "    line.set_data(x_data,y_data)\n",
    "    return line,\n",
    "\n",
    "sub_pos = jr.subscribe('odom', Odometry, odom_callback)\n",
    "\n",
    "ani = animation.FuncAnimation(fig_odom, animate_odom, init_func = init_odom)    "
   ]
  },
  {
   "cell_type": "code",
   "execution_count": null,
   "id": "af76d82e",
   "metadata": {},
   "outputs": [],
   "source": []
  }
 ],
 "metadata": {
  "hide_input": false,
  "kernelspec": {
   "display_name": "Python 3 (ipykernel)",
   "language": "python",
   "name": "python3"
  },
  "language_info": {
   "codemirror_mode": {
    "name": "ipython",
    "version": 3
   },
   "file_extension": ".py",
   "mimetype": "text/x-python",
   "name": "python",
   "nbconvert_exporter": "python",
   "pygments_lexer": "ipython3",
   "version": "3.8.5"
  },
  "toc": {
   "base_numbering": 1,
   "nav_menu": {},
   "number_sections": true,
   "sideBar": true,
   "skip_h1_title": false,
   "title_cell": "Table of Contents",
   "title_sidebar": "Contents",
   "toc_cell": false,
   "toc_position": {},
   "toc_section_display": true,
   "toc_window_display": false
  },
  "varInspector": {
   "cols": {
    "lenName": 16,
    "lenType": 16,
    "lenVar": 40
   },
   "kernels_config": {
    "python": {
     "delete_cmd_postfix": "",
     "delete_cmd_prefix": "del ",
     "library": "var_list.py",
     "varRefreshCmd": "print(var_dic_list())"
    },
    "r": {
     "delete_cmd_postfix": ") ",
     "delete_cmd_prefix": "rm(",
     "library": "var_list.r",
     "varRefreshCmd": "cat(var_dic_list()) "
    }
   },
   "types_to_exclude": [
    "module",
    "function",
    "builtin_function_or_method",
    "instance",
    "_Feature"
   ],
   "window_display": false
  }
 },
 "nbformat": 4,
 "nbformat_minor": 5
}
